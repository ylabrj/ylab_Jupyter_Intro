{
 "cells": [
  {
   "cell_type": "markdown",
   "metadata": {},
   "source": [
    "# Ylab's Jupyter Notebook: Hands-On!\n",
    "\n",
    "We're eating our own dogfood by creating this notebook in preparation for the class.\n",
    "\n",
    "## This is the stuff you need to do before the class.\n",
    "\n",
    "### 1. Load the Anaconda package on your laptop\n",
    "\n",
    "__[Download here](https://www.anaconda.com/download/)__\n",
    "\n",
    "You should pick the Python 3.X version.\n",
    "\n",
    "### 2. Download the  Jupyter notebook we'll be using for the class\n",
    "\n",
    "\n",
    "Download the notebook and supporting files by __[clicking on this link](https://minhaskamal.github.io/DownGit/#/home?url=https://github.com/rhiever/Data-Analysis-and-Machine-Learning-Projects/tree/master/example-data-science-notebook)__\n",
    "\n",
    "__Some background info on what's behind this link:__\n",
    "\n",
    "__[This is the directory we want in the github repository.](https://github.com/rhiever/Data-Analysis-and-Machine-Learning-Projects/tree/master/example-data-science-notebook)__ but unfortunately github only directly provides a way to download either individual files or the entire repository. You can do it with a bunch of github commands, but that's tedious.\n",
    "\n",
    "So... we open another browser window on __[the DownGit website](https://minhaskamal.github.io/DownGit/#/home)__ , copy the link above, and from there, we can either create a download link (what we pasted above), or download directly.\n",
    "\n",
    "We'll unpack all that and show you what to do with it in the class.\n",
    "\n",
    "\n",
    "\n",
    "### 3. Want a great tutorial and other help to start without us?\n",
    "\n",
    "__[There are so many.](http://lmgtfy.com/?q=Jupyter+Notebook+Tutorial)__\n",
    "\n",
    "We like these links:\n",
    "\n",
    "For basic Jupyter usage, we've been referring to __[this tutorial](https://www.dataquest.io/blog/jupyter-notebook-tutorial/)__. A *lot*.\n",
    "\n",
    "IBM Watson has a great __[cheat sheet for editing the markup cells.](https://dataplatform.cloud.ibm.com/docs/content/analyze-data/markd-jupyter.html)__\n",
    "\n",
    "There are a lot of good tips and keyboard shortcuts __[documented here.](https://www.dataquest.io/blog/jupyter-notebook-tips-tricks-shortcuts/)__"
   ]
  },
  {
   "cell_type": "markdown",
   "metadata": {},
   "source": [
    "# Stuff we'll cover in the session"
   ]
  },
  {
   "cell_type": "markdown",
   "metadata": {},
   "source": [
    "## Part 1: Basic cells\n",
    "\n",
    "These individual boxes you see on the screen? They're called cells.\n",
    "\n",
    "They can hold text, code, graphics.\n",
    "\n",
    "This one and the one above are called _markup cells_ and they have a wiki-style (but not compatible) editing markup format\n",
    "\n",
    "The one below is what you see when you create and open a notebook.\n",
    "\n",
    "You can: \n",
    "\n",
    " - __add cells__ willy-nilly using __Insert__ on the menu bar at the top.\n",
    " - __delete cells__ with the scissor icon\n",
    " - __change the cell type__ using the pull-down box on the icon bar. \n",
    " - __Run the markup formatter or the python interpreter__ with the __Run__ button\n",
    " - __Uncompile/clear output__ of a cell by changing its type to *raw NBConvert* and then back to *Markdown* or *Code*\n",
    " - __Up and down arrow boxes__ change the order of the cells\n",
    " - __Go back to editing__ in a markup box by hitting the Enter key\n",
    " \n",
    " Try inserting and chucking a few cells\n",
    " \n",
    " Try editing some text using the markdown cheat sheet we mentioned above and that we handed out.\n",
    " \n",
    " We'll try some Python code in the cell below.\n",
    " \n",
    " Notice how consecutive markup cells flow together when formatted, but break apart when editing."
   ]
  },
  {
   "cell_type": "code",
   "execution_count": null,
   "metadata": {},
   "outputs": [],
   "source": []
  },
  {
   "cell_type": "markdown",
   "metadata": {},
   "source": [
    "We are not going to spend much time on teaching Python programming here. For that, you should attend ylab's Intro to Python class."
   ]
  },
  {
   "cell_type": "markdown",
   "metadata": {},
   "source": [
    "## Unpacking the downloaded notebook and files\n",
    "\n",
    "You will need to unzip the data files and directories into an appropriate location.\n",
    "\n",
    "Just do it in your download directory and we'll work from there.\n"
   ]
  },
  {
   "cell_type": "markdown",
   "metadata": {},
   "source": [
    "##  Loading the notebook for the class\n",
    "\n",
    "You downloaded and installed Jupyter Notebook, right? So start it from your windows.\n",
    "\n",
    "From your OS file manager or command line, nnpack the zip file directory you download. Remember that directory.\n",
    "\n",
    "__Example Machine Learning Notebook.ipynb__ is the Jupyter notebook we want from the download. Let's load it now.\n",
    "\n",
    " - Start Jupyter Notebook from your Windows or other OS start menu\n",
    " - File -> Open...\n",
    "\n",
    "This will only show the notebooks and other files already loaded in our Jupyter environment.\n",
    "\n",
    "Near the top-right corner, click on the __upload__ button. \n",
    "\n",
    " - You will need to point to the directory where you downloaded the files. *Hint: it might be your downloads directory*\n",
    " - While you are there, you can throw out that big anaconda download package, if you have not already tossed it.\n",
    "\n",
    "If you don't see the notebook on the screen after the upload, try scolling down. The notebooks are listed below the directories, and there are *a lot* of directories in the anaconda installation.\n",
    "\n",
    "### At this point...\n",
    "\n",
    "Your browser should have the tab with the Jupyter logo open.\n",
    "\n",
    "That's where you can find the files, and the Notebook you haven't opened... yet.\n",
    "\n",
    "But we still need the data files.\n",
    "\n"
   ]
  },
  {
   "cell_type": "markdown",
   "metadata": {},
   "source": [
    "## Data file location and paths in Jupyter Notebook\n",
    "\n",
    "Where is our Python (or other) code in the notebook going to look for data?\n",
    "\n",
    "Let's get Python to tell us.\n",
    "\n",
    "In the following cell, the __os__ library we're importing is a Python default for operating system commands.\n",
    "\n",
    "__os.getcwd()__ gets us the current working directory. The command is OS independent - it works for Linux, MAC, Windows..."
   ]
  },
  {
   "cell_type": "code",
   "execution_count": 16,
   "metadata": {},
   "outputs": [
    {
     "data": {
      "text/plain": [
       "'C:\\\\users\\\\rjjun\\\\Downloads'"
      ]
     },
     "execution_count": 16,
     "metadata": {},
     "output_type": "execute_result"
    }
   ],
   "source": [
    "import os\n",
    "os.getcwd()"
   ]
  },
  {
   "cell_type": "markdown",
   "metadata": {},
   "source": [
    "So that's where it expects to find things. In your home directory.\n",
    "\n",
    "Go back to the Jupyter __home__ tab on your browser and look at the files there. Look familiar?\n",
    "\n",
    "Some of us would prefer to keep things elsewhere. That home directory gets pretty cluttered.\n",
    "\n",
    "We can put it wherever we want, as long as we explicitly specify the path.\n",
    "\n",
    "But there's more than one way to skin a path.\n",
    "\n",
    "\n",
    "\n",
    "In your home directory:\n",
    "\n",
    " - create directory __images__\n",
    " - drop a couple of jpg images in there.\n",
    "\n",
    "We're using matplotlib to display them.\n",
    "\n",
    "Bur first let's show a list of all the images in the directory\n"
   ]
  },
  {
   "cell_type": "code",
   "execution_count": 17,
   "metadata": {},
   "outputs": [
    {
     "ename": "FileNotFoundError",
     "evalue": "[WinError 3] The system cannot find the path specified: 'images/'",
     "output_type": "error",
     "traceback": [
      "\u001b[1;31m---------------------------------------------------------------------------\u001b[0m",
      "\u001b[1;31mFileNotFoundError\u001b[0m                         Traceback (most recent call last)",
      "\u001b[1;32m<ipython-input-17-fcf80f839695>\u001b[0m in \u001b[0;36m<module>\u001b[1;34m\u001b[0m\n\u001b[0;32m      7\u001b[0m \u001b[0mPATH\u001b[0m \u001b[1;33m=\u001b[0m \u001b[1;34m\"images/\"\u001b[0m\u001b[1;33m\u001b[0m\u001b[1;33m\u001b[0m\u001b[0m\n\u001b[0;32m      8\u001b[0m \u001b[1;31m# List the first 5 files in the directory\u001b[0m\u001b[1;33m\u001b[0m\u001b[1;33m\u001b[0m\u001b[1;33m\u001b[0m\u001b[0m\n\u001b[1;32m----> 9\u001b[1;33m \u001b[0mfiles\u001b[0m \u001b[1;33m=\u001b[0m \u001b[0mos\u001b[0m\u001b[1;33m.\u001b[0m\u001b[0mlistdir\u001b[0m\u001b[1;33m(\u001b[0m\u001b[1;34mf'{PATH}'\u001b[0m\u001b[1;33m)\u001b[0m\u001b[1;33m[\u001b[0m\u001b[1;33m:\u001b[0m\u001b[1;36m5\u001b[0m\u001b[1;33m]\u001b[0m\u001b[1;33m\u001b[0m\u001b[1;33m\u001b[0m\u001b[0m\n\u001b[0m\u001b[0;32m     10\u001b[0m \u001b[0mfiles\u001b[0m\u001b[1;33m\u001b[0m\u001b[1;33m\u001b[0m\u001b[0m\n\u001b[0;32m     11\u001b[0m \u001b[1;33m\u001b[0m\u001b[0m\n",
      "\u001b[1;31mFileNotFoundError\u001b[0m: [WinError 3] The system cannot find the path specified: 'images/'"
     ]
    }
   ],
   "source": [
    "# Load the matplotlib library\n",
    "%matplotlib inline\n",
    "from matplotlib import pyplot as plt\n",
    "\n",
    "\n",
    "# Setting the path... which will be off of the current directory we identified above.\n",
    "PATH = \"images/\"\n",
    "# List the first 5 files in the directory\n",
    "files = os.listdir(f'{PATH}')[:5]\n",
    "files\n",
    "\n"
   ]
  },
  {
   "cell_type": "code",
   "execution_count": null,
   "metadata": {},
   "outputs": [],
   "source": [
    "# Read the second image (order starts at 0; we're going for number 1)\n",
    "img = plt.imread(f'{PATH}{files[1]}')\n",
    "# display it\n",
    "plt.imshow(img);\n"
   ]
  },
  {
   "cell_type": "markdown",
   "metadata": {},
   "source": [
    "We could also do it with some simple html right here in the markdown box.\n",
    "\n",
    "But here we need to specify the exact file name. \n",
    "\n",
    "<img src=\"images/petal_sepal.jpg\" />\n"
   ]
  },
  {
   "cell_type": "markdown",
   "metadata": {},
   "source": [
    "But what if we want everything to be in another directory and not in the home directory?\n",
    "\n",
    "A Python cell can change the current working directory for us.\n",
    "\n",
    "A couple of things to notice here:\n",
    "\n",
    " - Python is smart enough to handle and convert the file separators\n",
    " - We put in the full path, not just *__Downloads/__*\n",
    " \n",
    " Why?\n",
    " \n",
    " Because if we happen to run the cell twice, our directory will be *__C:/users/rjjun/Downloads/Downloads__*\n",
    " \n",
    " Just move or copy the cell below way up in the notebook to some point before you start things\n",
    " \n",
    " # and leave yourself a big comment to update that directory \n",
    " \n",
    "\n",
    "\n"
   ]
  },
  {
   "cell_type": "code",
   "execution_count": 18,
   "metadata": {},
   "outputs": [
    {
     "data": {
      "text/plain": [
       "'C:\\\\users\\\\rjjun\\\\Downloads'"
      ]
     },
     "execution_count": 18,
     "metadata": {},
     "output_type": "execute_result"
    }
   ],
   "source": [
    "os.chdir('C:/users/rjjun/Downloads/')\n",
    "os.getcwd()"
   ]
  },
  {
   "cell_type": "code",
   "execution_count": null,
   "metadata": {},
   "outputs": [],
   "source": []
  }
 ],
 "metadata": {
  "kernelspec": {
   "display_name": "Python 3",
   "language": "python",
   "name": "python3"
  },
  "language_info": {
   "codemirror_mode": {
    "name": "ipython",
    "version": 3
   },
   "file_extension": ".py",
   "mimetype": "text/x-python",
   "name": "python",
   "nbconvert_exporter": "python",
   "pygments_lexer": "ipython3",
   "version": "3.7.1"
  }
 },
 "nbformat": 4,
 "nbformat_minor": 2
}
